{
 "cells": [
  {
   "cell_type": "code",
   "execution_count": 1,
   "metadata": {},
   "outputs": [],
   "source": [
    "import pandas as pd\n"
   ]
  },
  {
   "cell_type": "code",
   "execution_count": 2,
   "metadata": {},
   "outputs": [
    {
     "name": "stdout",
     "output_type": "stream",
     "text": [
      "         price                 time  side  volume  volume_bid  volume_ask  \\\n",
      "0       1108.9  1622505601191796236    -1      36           6         104   \n",
      "1       1108.7  1622505601222248272    -1      17          10          23   \n",
      "2       1108.5  1622505601364445668    -1      20          16          23   \n",
      "3       1108.6  1622505601405325968     1       1          16          22   \n",
      "4       1108.3  1622505601406994624    -1      16          18          12   \n",
      "...        ...                  ...   ...     ...         ...         ...   \n",
      "397797  1150.5  1627626542759155628     1       1         217          92   \n",
      "397798  1150.5  1627626543983252140     1       1         187         126   \n",
      "397799  1150.5  1627626549091604988     1      94           6         365   \n",
      "397800  1150.5  1627626549092524892    -1       6         177         365   \n",
      "397801  1150.5  1627626549492660420    -1       2         197         311   \n",
      "\n",
      "        bid_price  ask_price  mid_price  \n",
      "0          1108.7     1108.8    1108.75  \n",
      "1          1108.5     1108.6    1108.55  \n",
      "2          1108.3     1108.6    1108.45  \n",
      "3          1108.3     1108.6    1108.45  \n",
      "4          1108.2     1108.3    1108.25  \n",
      "...           ...        ...        ...  \n",
      "397797     1150.4     1150.5    1150.45  \n",
      "397798     1150.4     1150.5    1150.45  \n",
      "397799     1150.5     1150.6    1150.55  \n",
      "397800     1150.4     1150.6    1150.50  \n",
      "397801     1150.4     1150.6    1150.50  \n",
      "\n",
      "[397802 rows x 9 columns]\n"
     ]
    }
   ],
   "source": [
    "# download file \"market_logs.log\" and extract data\n",
    "market_logs = pd.read_csv(\"market_logs.log\", header=None, names=['time_side','price','vol_glass'])\n",
    "market_logs['time'] = market_logs['time_side'].apply(lambda x: int(x.split()[4]))\n",
    "market_logs['side'] = market_logs['time_side'].apply(lambda x: int(x.split()[7]))\n",
    "market_logs['price'] = market_logs['price'].apply(lambda x: float(x.split()[1]))\n",
    "market_logs['volume'] = market_logs['vol_glass'].apply(lambda x: int(x.split()[2]))\n",
    "market_logs['volume_bid'] = market_logs['vol_glass'].apply(lambda x: int(x.split()[6].split('@')[0]))\n",
    "market_logs['volume_ask'] = market_logs['vol_glass'].apply(lambda x: int(x.split('@')[2]))\n",
    "market_logs['bid_price'] = market_logs['vol_glass'].apply(lambda x: float(x.split('@')[1].split('x')[0]))\n",
    "market_logs['ask_price'] = market_logs['vol_glass'].apply(lambda x: float(x.split('@')[1].split('x')[1]))\n",
    "\n",
    "del market_logs['time_side']\n",
    "del market_logs['vol_glass']\n",
    "\n",
    "# mid_price = (ask_price + bid_price)/2 calculating\n",
    "market_logs['mid_price'] = (\n",
    "    market_logs['bid_price'] + market_logs['ask_price']) / 2\n",
    "\n",
    "print(market_logs)\n"
   ]
  },
  {
   "cell_type": "code",
   "execution_count": 3,
   "metadata": {},
   "outputs": [
    {
     "name": "stdout",
     "output_type": "stream",
     "text": [
      "                     time  side   price  traded_volume  volume_left  \\\n",
      "0     1622505601222248272     1  1108.6              1           10   \n",
      "1     1622505601424113404    -1  1108.4              1           22   \n",
      "2     1622505601604667896     1  1108.3              1            2   \n",
      "3     1622505602982200992    -1  1108.4              1            1   \n",
      "4     1622505603600579508     1  1108.3              1            6   \n",
      "...                   ...   ...     ...            ...          ...   \n",
      "8677  1627626326117581668     1  1149.9              1          564   \n",
      "8678  1627626397873668620    -1  1150.2              1          331   \n",
      "8679  1627626412584847188     1  1150.1              1           97   \n",
      "8680  1627626473991536064    -1  1150.4              1           10   \n",
      "8681  1627626512859773452     1  1150.6              1           15   \n",
      "\n",
      "      delta_execsend  \n",
      "0           30451968  \n",
      "1           17118720  \n",
      "2          153866496  \n",
      "3          153371136  \n",
      "4          618378496  \n",
      "...              ...  \n",
      "8677         2381312  \n",
      "8678      1296281088  \n",
      "8679     14703859968  \n",
      "8680     12134184704  \n",
      "8681     14734981632  \n",
      "\n",
      "[8682 rows x 6 columns]\n"
     ]
    }
   ],
   "source": [
    "\n",
    "# download file \"exec_logs.log\" and extract data\n",
    "exec_logs = pd.read_csv(\"exec_logs.log\", header=None, names=[\n",
    "                        'time', 'side', 'price', 'traded_volume', 'volume_left', 'delta_execsend'])\n",
    "exec_logs['time'] = exec_logs['time'].apply(lambda x: int(x.split()[4]))\n",
    "exec_logs['side'] = exec_logs['side'].apply(lambda x: int(x.split()[1]))\n",
    "exec_logs['price'] = exec_logs['price'].apply(lambda x: float(x.split()[1]))\n",
    "exec_logs['traded_volume'] = exec_logs['traded_volume'].apply(lambda x: int(x.split()[2]))\n",
    "exec_logs['volume_left'] = exec_logs['volume_left'].apply(lambda x: int(x.split()[4]))\n",
    "exec_logs['delta_execsend'] = exec_logs['delta_execsend'].apply(\n",
    "    lambda x: int(x.split()[1]))\n",
    "print(exec_logs)\n"
   ]
  },
  {
   "cell_type": "code",
   "execution_count": 4,
   "metadata": {},
   "outputs": [
    {
     "data": {
      "text/html": [
       "<div>\n",
       "<style scoped>\n",
       "    .dataframe tbody tr th:only-of-type {\n",
       "        vertical-align: middle;\n",
       "    }\n",
       "\n",
       "    .dataframe tbody tr th {\n",
       "        vertical-align: top;\n",
       "    }\n",
       "\n",
       "    .dataframe thead th {\n",
       "        text-align: right;\n",
       "    }\n",
       "</style>\n",
       "<table border=\"1\" class=\"dataframe\">\n",
       "  <thead>\n",
       "    <tr style=\"text-align: right;\">\n",
       "      <th></th>\n",
       "      <th>time</th>\n",
       "      <th>price_y</th>\n",
       "      <th>side_y</th>\n",
       "      <th>delta_execsend</th>\n",
       "      <th>dmid5</th>\n",
       "    </tr>\n",
       "  </thead>\n",
       "  <tbody>\n",
       "    <tr>\n",
       "      <th>0</th>\n",
       "      <td>1622505601222248272</td>\n",
       "      <td>1108.6</td>\n",
       "      <td>1.0</td>\n",
       "      <td>3.045197e+07</td>\n",
       "      <td>0.05</td>\n",
       "    </tr>\n",
       "    <tr>\n",
       "      <th>1</th>\n",
       "      <td>1622505601424113404</td>\n",
       "      <td>1108.4</td>\n",
       "      <td>-1.0</td>\n",
       "      <td>1.711872e+07</td>\n",
       "      <td>-0.05</td>\n",
       "    </tr>\n",
       "    <tr>\n",
       "      <th>2</th>\n",
       "      <td>1622505601604667896</td>\n",
       "      <td>1108.3</td>\n",
       "      <td>1.0</td>\n",
       "      <td>1.538665e+08</td>\n",
       "      <td>0.15</td>\n",
       "    </tr>\n",
       "    <tr>\n",
       "      <th>3</th>\n",
       "      <td>1622505602982200992</td>\n",
       "      <td>1108.4</td>\n",
       "      <td>-1.0</td>\n",
       "      <td>1.533711e+08</td>\n",
       "      <td>-0.15</td>\n",
       "    </tr>\n",
       "    <tr>\n",
       "      <th>4</th>\n",
       "      <td>1622505603600579508</td>\n",
       "      <td>1108.3</td>\n",
       "      <td>1.0</td>\n",
       "      <td>6.183785e+08</td>\n",
       "      <td>0.05</td>\n",
       "    </tr>\n",
       "    <tr>\n",
       "      <th>...</th>\n",
       "      <td>...</td>\n",
       "      <td>...</td>\n",
       "      <td>...</td>\n",
       "      <td>...</td>\n",
       "      <td>...</td>\n",
       "    </tr>\n",
       "    <tr>\n",
       "      <th>8677</th>\n",
       "      <td>1627626326117581668</td>\n",
       "      <td>1149.9</td>\n",
       "      <td>1.0</td>\n",
       "      <td>2.381312e+06</td>\n",
       "      <td>-0.05</td>\n",
       "    </tr>\n",
       "    <tr>\n",
       "      <th>8678</th>\n",
       "      <td>1627626397873668620</td>\n",
       "      <td>1150.2</td>\n",
       "      <td>-1.0</td>\n",
       "      <td>1.296281e+09</td>\n",
       "      <td>0.05</td>\n",
       "    </tr>\n",
       "    <tr>\n",
       "      <th>8679</th>\n",
       "      <td>1627626412584847188</td>\n",
       "      <td>1150.1</td>\n",
       "      <td>1.0</td>\n",
       "      <td>1.470386e+10</td>\n",
       "      <td>0.05</td>\n",
       "    </tr>\n",
       "    <tr>\n",
       "      <th>8680</th>\n",
       "      <td>1627626473991536064</td>\n",
       "      <td>1150.4</td>\n",
       "      <td>-1.0</td>\n",
       "      <td>1.213418e+10</td>\n",
       "      <td>-0.05</td>\n",
       "    </tr>\n",
       "    <tr>\n",
       "      <th>8681</th>\n",
       "      <td>1627626512859773452</td>\n",
       "      <td>1150.6</td>\n",
       "      <td>1.0</td>\n",
       "      <td>1.473498e+10</td>\n",
       "      <td>-0.05</td>\n",
       "    </tr>\n",
       "  </tbody>\n",
       "</table>\n",
       "<p>8682 rows × 5 columns</p>\n",
       "</div>"
      ],
      "text/plain": [
       "                     time  price_y  side_y  delta_execsend  dmid5\n",
       "0     1622505601222248272   1108.6     1.0    3.045197e+07   0.05\n",
       "1     1622505601424113404   1108.4    -1.0    1.711872e+07  -0.05\n",
       "2     1622505601604667896   1108.3     1.0    1.538665e+08   0.15\n",
       "3     1622505602982200992   1108.4    -1.0    1.533711e+08  -0.15\n",
       "4     1622505603600579508   1108.3     1.0    6.183785e+08   0.05\n",
       "...                   ...      ...     ...             ...    ...\n",
       "8677  1627626326117581668   1149.9     1.0    2.381312e+06  -0.05\n",
       "8678  1627626397873668620   1150.2    -1.0    1.296281e+09   0.05\n",
       "8679  1627626412584847188   1150.1     1.0    1.470386e+10   0.05\n",
       "8680  1627626473991536064   1150.4    -1.0    1.213418e+10  -0.05\n",
       "8681  1627626512859773452   1150.6     1.0    1.473498e+10  -0.05\n",
       "\n",
       "[8682 rows x 5 columns]"
      ]
     },
     "metadata": {},
     "output_type": "display_data"
    }
   ],
   "source": [
    "# merge market_logs and exec_logs\n",
    "\n",
    "merge_log = market_logs.merge(exec_logs, how='outer', on='time', sort=True, indicator=True)\n",
    "merge_log[\"mid_price\"].bfill(axis=None, inplace=True)\n",
    "\n",
    "# calculate dmid5\n",
    "df4calc = merge_log[[\"time\", \"price_y\", \"side_y\", \"delta_execsend\"]\n",
    "              ][merge_log[\"side_y\"].notna() == True].reset_index(drop=True)\n",
    "for i, tm in enumerate(df4calc[\"time\"]):\n",
    "    mc = merge_log[\"time\"][merge_log[\"time\"] < (tm+5000000000)]\n",
    "    mcind = len(mc)\n",
    "    midprice5 = merge_log.at[mcind, \"mid_price\"]\n",
    "    df4calc.at[i, \"dmid5\"] = (midprice5 - df4calc.at[i, \"price_y\"]\n",
    "                              ) * df4calc.at[i, \"side_y\"]\n",
    "display(df4calc)\n"
   ]
  },
  {
   "cell_type": "code",
   "execution_count": 5,
   "metadata": {},
   "outputs": [
    {
     "data": {
      "image/png": "[encoded data removed]",
      "text/plain": [
       "<Figure size 432x288 with 1 Axes>"
      ]
     },
     "metadata": {
      "needs_background": "light"
     },
     "output_type": "display_data"
    }
   ],
   "source": [
    "# plotting graph dmid5 - delta_execsend\n",
    "\n",
    "dplot = df4calc[[\"dmid5\", \"delta_execsend\"]]\n",
    "ax1 = dplot.plot.scatter(x='dmid5', y='delta_execsend')\n"
   ]
  },
  {
   "cell_type": "code",
   "execution_count": 6,
   "metadata": {},
   "outputs": [
    {
     "name": "stdout",
     "output_type": "stream",
     "text": [
      "pearson correlation= 0.02288395808170557\n",
      "kendall correlation= 0.05806087595061514\n",
      "spearman correlation= 0.08292806294812888\n"
     ]
    }
   ],
   "source": [
    "print(\"pearson correlation=\", dplot.corr(\"pearson\").iat[0, 1])\n",
    "print(\"kendall correlation=\", dplot.corr(\"kendall\").iat[0, 1])\n",
    "print(\"spearman correlation=\", dplot.corr(\"spearman\").iat[0, 1])\n"
   ]
  }
 ],
 "metadata": {
  "kernelspec": {
   "display_name": "Python 3.6.15 64-bit",
   "language": "python",
   "name": "python3"
  },
  "language_info": {
   "codemirror_mode": {
    "name": "ipython",
    "version": 3
   },
   "file_extension": ".py",
   "mimetype": "text/x-python",
   "name": "python",
   "nbconvert_exporter": "python",
   "pygments_lexer": "ipython3",
   "version": "3.6.15"
  },
  "orig_nbformat": 4,
  "vscode": {
   "interpreter": {
    "hash": "31f2aee4e71d21fbe5cf8b01ff0e069b9275f58929596ceb00d14d90e3e16cd6"
   }
  }
 },
 "nbformat": 4,
 "nbformat_minor": 2
}
